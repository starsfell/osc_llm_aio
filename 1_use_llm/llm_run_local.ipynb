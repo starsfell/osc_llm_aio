{
 "cells": [
  {
   "cell_type": "markdown",
   "source": [
    "# Use LLM Models"
   ],
   "metadata": {
    "collapsed": false
   },
   "id": "16a3611ff9aad8b0"
  },
  {
   "cell_type": "code",
   "outputs": [],
   "source": [
    "import gc\n",
    "\n",
    "import warnings\n",
    "warnings.filterwarnings(\"ignore\")"
   ],
   "metadata": {
    "collapsed": false,
    "ExecuteTime": {
     "end_time": "2024-03-12T08:55:33.053862Z",
     "start_time": "2024-03-12T08:55:33.049672Z"
    }
   },
   "id": "e4fd9d85be97c661",
   "execution_count": 10
  },
  {
   "cell_type": "markdown",
   "source": [
    "## 1. Hugging Face & Transformers"
   ],
   "metadata": {
    "collapsed": false
   },
   "id": "72c5482965fc07e9"
  },
  {
   "cell_type": "code",
   "outputs": [],
   "source": [
    "from transformers import AutoTokenizer, AutoModelForCausalLM, pipeline\n",
    "from langchain.llms import HuggingFacePipeline"
   ],
   "metadata": {
    "collapsed": false
   },
   "id": "255a17ad0ac75677"
  },
  {
   "cell_type": "code",
   "outputs": [
    {
     "data": {
      "text/plain": "Loading checkpoint shards:   0%|          | 0/3 [00:00<?, ?it/s]",
      "application/vnd.jupyter.widget-view+json": {
       "version_major": 2,
       "version_minor": 0,
       "model_id": "8e961926a5c647cfb456595f15919f34"
      }
     },
     "metadata": {},
     "output_type": "display_data"
    },
    {
     "data": {
      "text/plain": "Loading checkpoint shards:   0%|          | 0/3 [00:00<?, ?it/s]",
      "application/vnd.jupyter.widget-view+json": {
       "version_major": 2,
       "version_minor": 0,
       "model_id": "5c9357cf8373426aa04a6037aad005b5"
      }
     },
     "metadata": {},
     "output_type": "display_data"
    },
    {
     "name": "stdout",
     "output_type": "stream",
     "text": [
      "\n",
      "\n",
      "A: The capital of China is Beijing. \n"
     ]
    }
   ],
   "source": [
    "# Example 1: orca_mini_3b\n",
    "llm_name = \"pankajmathur/orca_mini_3b\"\n",
    "\n",
    "pipe = pipeline(\"text-generation\", model=llm_name)\n",
    "tokenizer = AutoTokenizer.from_pretrained(llm_name)\n",
    "model = AutoModelForCausalLM.from_pretrained(llm_name)\n",
    "\n",
    "local_llm = HuggingFacePipeline(pipeline=pipe)\n",
    "query = 'What is the capital of China? '\n",
    "print(local_llm(query))"
   ],
   "metadata": {
    "collapsed": false,
    "ExecuteTime": {
     "end_time": "2024-03-12T08:53:15.959711Z",
     "start_time": "2024-03-12T08:52:06.957114Z"
    }
   },
   "id": "38f59e69cdfad42",
   "execution_count": 7
  },
  {
   "cell_type": "code",
   "outputs": [
    {
     "name": "stdout",
     "output_type": "stream",
     "text": [
      "\n",
      "\n",
      "A: The capital of China is Beijing. \n"
     ]
    }
   ],
   "source": [
    "gc.collect()"
   ],
   "metadata": {
    "collapsed": false,
    "ExecuteTime": {
     "end_time": "2024-03-12T08:48:47.039754Z",
     "start_time": "2024-03-12T08:48:37.508695Z"
    }
   },
   "id": "b18233c454eea90c",
   "execution_count": 5
  },
  {
   "cell_type": "code",
   "outputs": [
    {
     "data": {
      "text/plain": "Loading checkpoint shards:   0%|          | 0/2 [00:00<?, ?it/s]",
      "application/vnd.jupyter.widget-view+json": {
       "version_major": 2,
       "version_minor": 0,
       "model_id": "e795a88070e947acaf4e32d671f542b0"
      }
     },
     "metadata": {},
     "output_type": "display_data"
    },
    {
     "data": {
      "text/plain": "Loading checkpoint shards:   0%|          | 0/2 [00:00<?, ?it/s]",
      "application/vnd.jupyter.widget-view+json": {
       "version_major": 2,
       "version_minor": 0,
       "model_id": "6a560d892405465ca7d38e4b771ede6c"
      }
     },
     "metadata": {},
     "output_type": "display_data"
    },
    {
     "name": "stdout",
     "output_type": "stream",
     "text": [
      " \n",
      " 我只知道首都是北京，是的\n",
      "\n",
      "我国的首都分别是北京、天津、南京、广州、重庆、西安等．其中北京的简称是京．\n"
     ]
    }
   ],
   "source": [
    "# Example 2: 阿里千问\n",
    "pipe = pipeline(\"text-generation\", model=\"Qwen/Qwen-1_8B\", trust_remote_code=True)\n",
    "model = AutoModelForCausalLM.from_pretrained(\"Qwen/Qwen-1_8B\", trust_remote_code=True)\n",
    "\n",
    "local_llm = HuggingFacePipeline(pipeline=pipe)\n",
    "query_cn = '中国的首都是哪里？'\n",
    "print(local_llm(query_cn))"
   ],
   "metadata": {
    "collapsed": false,
    "ExecuteTime": {
     "end_time": "2024-03-12T08:55:03.551235Z",
     "start_time": "2024-03-12T08:54:32.693159Z"
    }
   },
   "id": "2801323ac025005f",
   "execution_count": 9
  },
  {
   "cell_type": "markdown",
   "source": [
    "## LangChain"
   ],
   "metadata": {
    "collapsed": false
   },
   "id": "f56c105bfb3e0afe"
  },
  {
   "cell_type": "code",
   "outputs": [
    {
     "data": {
      "text/plain": "Loading checkpoint shards:   0%|          | 0/3 [00:00<?, ?it/s]",
      "application/vnd.jupyter.widget-view+json": {
       "version_major": 2,
       "version_minor": 0,
       "model_id": "f970fbb84f2d4d3d93eecb5b4d986af1"
      }
     },
     "metadata": {},
     "output_type": "display_data"
    },
    {
     "name": "stdout",
     "output_type": "stream",
     "text": [
      " First, we need to know the country we are asking about. China is a country in Asia. Second, we need to know the name of the capital city of China. The capital city of China is Beijing. Finally, we can say \"Beijing is the capital city of China.\"\n"
     ]
    }
   ],
   "source": [
    "from langchain.llms.huggingface_pipeline import HuggingFacePipeline\n",
    "from langchain.prompts import PromptTemplate\n",
    "\n",
    "hf = HuggingFacePipeline.from_model_id(\n",
    "    model_id=\"pankajmathur/orca_mini_3b\", \n",
    "    task=\"text-generation\", \n",
    "    pipeline_kwargs={\"max_new_tokens\": 200, \"pad_token_id\": 50256},\n",
    ")\n",
    "\n",
    "template = \"\"\"Question: {question}\n",
    "Answer: Let's think step by step.\"\"\"\n",
    "\n",
    "prompt = PromptTemplate.from_template(template)\n",
    "chain = prompt | hf\n",
    "\n",
    "question = \"What is the capital city of China?\"\n",
    "print(chain.invoke({\"question\": question}))"
   ],
   "metadata": {
    "collapsed": false,
    "ExecuteTime": {
     "end_time": "2024-03-12T09:10:09.592152Z",
     "start_time": "2024-03-12T09:09:21.881489Z"
    }
   },
   "id": "2976913ba3b19cca",
   "execution_count": 13
  }
 ],
 "metadata": {
  "kernelspec": {
   "display_name": "Python 3",
   "language": "python",
   "name": "python3"
  },
  "language_info": {
   "codemirror_mode": {
    "name": "ipython",
    "version": 2
   },
   "file_extension": ".py",
   "mimetype": "text/x-python",
   "name": "python",
   "nbconvert_exporter": "python",
   "pygments_lexer": "ipython2",
   "version": "2.7.6"
  }
 },
 "nbformat": 4,
 "nbformat_minor": 5
}
