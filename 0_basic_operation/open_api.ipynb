{
 "cells": [
  {
   "cell_type": "markdown",
   "source": [
    "# Use OpenAI API"
   ],
   "metadata": {
    "collapsed": false
   },
   "id": "16a3611ff9aad8b0"
  },
  {
   "cell_type": "code",
   "outputs": [],
   "source": [
    "import gc\n",
    "import os\n",
    "\n",
    "from langchain.chains import LLMChain\n",
    "from langchain.prompts import PromptTemplate\n",
    "from langchain_openai import OpenAI\n",
    "\n",
    "import warnings\n",
    "warnings.filterwarnings(\"ignore\")"
   ],
   "metadata": {
    "collapsed": false,
    "ExecuteTime": {
     "end_time": "2024-03-15T09:45:25.324087Z",
     "start_time": "2024-03-15T09:45:24.668816Z"
    }
   },
   "id": "e4fd9d85be97c661",
   "execution_count": 3
  },
  {
   "cell_type": "code",
   "outputs": [],
   "source": [
    "# get a token: https://platform.openai.com/account/api-keys\n",
    "from getpass import getpass\n",
    "OPENAI_API_KEY = getpass()"
   ],
   "metadata": {
    "collapsed": false,
    "ExecuteTime": {
     "end_time": "2024-03-15T09:48:26.272384Z",
     "start_time": "2024-03-15T09:48:22.261797Z"
    }
   },
   "id": "a55ee97d44cf32ee",
   "execution_count": 28
  },
  {
   "cell_type": "code",
   "outputs": [],
   "source": [
    "os.environ[\"OPENAI_API_KEY\"] = OPENAI_API_KEY"
   ],
   "metadata": {
    "collapsed": false,
    "ExecuteTime": {
     "end_time": "2024-03-15T09:48:33.418087Z",
     "start_time": "2024-03-15T09:48:33.414951Z"
    }
   },
   "id": "2a79cfdce09e3421",
   "execution_count": 30
  },
  {
   "cell_type": "code",
   "outputs": [],
   "source": [
    "template = \"\"\"Question: {question}\n",
    "\n",
    "Answer: Let's think step by step.\"\"\"\n",
    "\n",
    "prompt = PromptTemplate.from_template(template)"
   ],
   "metadata": {
    "collapsed": false,
    "ExecuteTime": {
     "end_time": "2024-03-15T09:48:34.327480Z",
     "start_time": "2024-03-15T09:48:34.321735Z"
    }
   },
   "id": "6539cfec02e6b7ac",
   "execution_count": 31
  },
  {
   "cell_type": "code",
   "outputs": [],
   "source": [
    "llm = OpenAI()\n"
   ],
   "metadata": {
    "collapsed": false,
    "ExecuteTime": {
     "end_time": "2024-03-15T09:48:34.837173Z",
     "start_time": "2024-03-15T09:48:34.823213Z"
    }
   },
   "id": "8631c6a3b1209a82",
   "execution_count": 32
  },
  {
   "cell_type": "code",
   "outputs": [],
   "source": [
    "llm_chain = LLMChain(prompt=prompt, llm=llm)\n"
   ],
   "metadata": {
    "collapsed": false,
    "ExecuteTime": {
     "end_time": "2024-03-15T09:48:35.374262Z",
     "start_time": "2024-03-15T09:48:35.368368Z"
    }
   },
   "id": "ed07f0f640aed86e",
   "execution_count": 33
  },
  {
   "cell_type": "code",
   "outputs": [
    {
     "data": {
      "text/plain": "' Justin Bieber was born on March 1, 1994. The Super Bowl is typically held in February of each year, so we need to look at the Super Bowl that took place in 1994. The 1994 Super Bowl was Super Bowl XXVIII, held on January 30, 1994. The winning team was the Dallas Cowboys, who defeated the Buffalo Bills with a score of 30-13. Therefore, the Dallas Cowboys won the Super Bowl in the year Justin Bieber was born.'"
     },
     "execution_count": 34,
     "metadata": {},
     "output_type": "execute_result"
    }
   ],
   "source": [
    "question = \"What NFL team won the Super Bowl in the year Justin Beiber was born?\"\n",
    "\n",
    "llm_chain.run(question)\n"
   ],
   "metadata": {
    "collapsed": false,
    "ExecuteTime": {
     "end_time": "2024-03-15T09:48:38.777688Z",
     "start_time": "2024-03-15T09:48:36.226158Z"
    }
   },
   "id": "4cb3841db04ab198",
   "execution_count": 34
  },
  {
   "cell_type": "code",
   "outputs": [],
   "source": [
    "# If you manually want to specify your OpenAI API key and/or organization ID, you can use the following:\n",
    "# llm = OpenAI(openai_api_key=\"YOUR_API_KEY\", openai_organization=\"YOUR_ORGANIZATION_ID\")"
   ],
   "metadata": {
    "collapsed": false
   },
   "id": "bc9dc2ac8871c653",
   "execution_count": 16
  },
  {
   "cell_type": "code",
   "outputs": [],
   "source": [
    "# If you are behind an explicit proxy, you can specify the http_client to pass through\n",
    "# \n",
    "# pip install httpx\n",
    "# import httpx\n",
    "# openai = OpenAI(model_name=\"gpt-3.5-turbo-instruct\", http_client=httpx.Client(proxies=\"http://proxy.yourcompany.com:8080\"))"
   ],
   "metadata": {
    "collapsed": false
   },
   "id": "48a4a3dafc31e345"
  },
  {
   "cell_type": "code",
   "outputs": [],
   "source": [],
   "metadata": {
    "collapsed": false
   },
   "id": "c270036b8cf91f25"
  },
  {
   "cell_type": "code",
   "outputs": [],
   "source": [],
   "metadata": {
    "collapsed": false
   },
   "id": "47437dfca4f63944"
  }
 ],
 "metadata": {
  "kernelspec": {
   "display_name": "Python 3",
   "language": "python",
   "name": "python3"
  },
  "language_info": {
   "codemirror_mode": {
    "name": "ipython",
    "version": 2
   },
   "file_extension": ".py",
   "mimetype": "text/x-python",
   "name": "python",
   "nbconvert_exporter": "python",
   "pygments_lexer": "ipython2",
   "version": "2.7.6"
  }
 },
 "nbformat": 4,
 "nbformat_minor": 5
}
